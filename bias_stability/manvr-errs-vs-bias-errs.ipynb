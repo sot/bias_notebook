{
 "cells": [
  {
   "cell_type": "markdown",
   "metadata": {},
   "source": [
    "# Impact of bias errors on a maneuver\n",
    "\n",
    "Investigate how a particular bias error affects the maneuver error.  This relies heavily on the \n",
    "[inject_errors](https://github.com/sot/Chandra.Maneuver/blob/80aaf21cf9dbc5939f967a7559b410b5aae00559/Chandra/Maneuver.py#L292) function to apply the bias errors.\n",
    "\n",
    "In this study it is assumed that the bias is linearly increasing in each axis during\n",
    "the maneuver.  The increase is such that the time integral of the bias error during\n",
    "the maneuver is given by the ``bias_err`` vector in (roll, pitch, yaw) in arcsec.  However, these\n",
    "are coupled so that only in the case of a pure 1-axis maneuver can one directly\n",
    "see the corresponding ``bias_err`` impact.\n",
    "\n",
    "### Conclusions\n",
    "\n",
    "- Roll error is not directly a problem for acquisition.\n",
    "- Roll bias error is \"diluted\" by at least a factor of two in the acquisition pitch and yaw errors.\n",
    "- Integrated (roll, pitch, yaw) errors during the 2016:324 NSM maneuver are `(-115, 123, 91) arcsec`.  \n",
    "  This reproduces the observed `(-50.1, -127.4, 113.9) arcsec` attitude error at the end of the maneuver."
   ]
  },
  {
   "cell_type": "code",
   "execution_count": 1,
   "metadata": {
    "collapsed": true
   },
   "outputs": [],
   "source": [
    "from __future__ import division\n",
    "\n",
    "import Chandra.Maneuver as cm\n",
    "import matplotlib.pyplot as plt\n",
    "\n",
    "%matplotlib inline"
   ]
  },
  {
   "cell_type": "code",
   "execution_count": 2,
   "metadata": {
    "collapsed": true
   },
   "outputs": [],
   "source": [
    "def get_att_err(att_init=(0, 0, 0), att_final=None, bias_err=None, step=30, verbose=False):\n",
    "    \"\"\"\n",
    "    Get attitude error for a maneuver from ``att_init`` to ``att_final``\n",
    "    during which the bias is linearly increasing in each axis.  The\n",
    "    increase is such that the time integral of the bias error during\n",
    "    the maneuver is ``bias_err``.\n",
    "    \n",
    "    :param att_init: initial attitude (ra, dec, roll) [degrees]\n",
    "    :param att_final: final attitude (ra, dec, roll) [degrees]\n",
    "    :param bias_err: integrated bias error (roll, pitch, yaw) [arcsec]\n",
    "    :param step: step size during maneuver [sec]\n",
    "    :param verbose: show verbose info (default=False)\n",
    "    \n",
    "    :returns: (droll, dpitch, dyaw) [arcsec]\n",
    "    \"\"\"\n",
    "    \n",
    "    # Get table of intermediate attitudes corresponding to maneuver from\n",
    "    # att_init to att_final\n",
    "    atts = cm.attitudes(att_init, att_final, step=step)\n",
    "\n",
    "    # Linearly ramping bias error in yaw\n",
    "    att_err = (0, 0, 0)\n",
    "    bias_errs = np.linspace(0, 1, len(atts)) * np.array(bias_err).reshape(3, 1)\n",
    "    mean_bias_errs = (bias_errs[:, :-1] + bias_errs[:, 1:]) / 2\n",
    "\n",
    "    # Normalize\n",
    "    bias_index = np.argmax(np.abs(bias_err))\n",
    "    expected_err = np.sum(mean_bias_errs[bias_index] * np.diff(atts['time']))\n",
    "    norm = bias_err[bias_index] / expected_err\n",
    "    bias_errs *= norm\n",
    "    if verbose:\n",
    "        print(bias_errs[:, -1])\n",
    "    \n",
    "    # Make a new attitudes table with injected errors\n",
    "    atts_err = cm.inject_errors(atts, att_err, bias_errs)\n",
    "\n",
    "    # Compute delta quaternion between original and error attitudes\n",
    "    q_err = cm.get_quaternions(atts_err)[-1]\n",
    "    q = cm.get_quaternions(atts)[-1]\n",
    "    dq = q.dq(q_err)\n",
    "\n",
    "    print('roll_err={:.2f}\"  pitch_err={:.2f}\"  yaw_err={:.2f}\"'\n",
    "          .format(dq.roll0 * 3600, dq.pitch * 3600, dq.yaw * 3600))\n",
    "    return (dq.roll0 * 3600, dq.pitch * 3600, dq.yaw * 3600)"
   ]
  },
  {
   "cell_type": "markdown",
   "metadata": {},
   "source": [
    "## Pure roll errors"
   ]
  },
  {
   "cell_type": "code",
   "execution_count": 3,
   "metadata": {
    "collapsed": false,
    "scrolled": true
   },
   "outputs": [
    {
     "name": "stdout",
     "output_type": "stream",
     "text": [
      "roll_err=100.00\"  pitch_err=-0.00\"  yaw_err=0.00\"\n"
     ]
    }
   ],
   "source": [
    "# Pure roll maneuver.  This shows the expected roll error of 100 arcsec\n",
    "get_att_err(att_final=(0, 0, 90), bias_err=(100, 0, 0));"
   ]
  },
  {
   "cell_type": "code",
   "execution_count": 4,
   "metadata": {
    "collapsed": false
   },
   "outputs": [
    {
     "name": "stdout",
     "output_type": "stream",
     "text": [
      "roll_err=45.07\"  pitch_err=-50.72\"  yaw_err=0.00\"\n"
     ]
    }
   ],
   "source": [
    "# 180 degree pure yaw maneuver gives a 50 arcsec \n",
    "get_att_err(att_final=(180, 0, 0), bias_err=(100, 0, 0));"
   ]
  },
  {
   "cell_type": "code",
   "execution_count": 5,
   "metadata": {
    "collapsed": false
   },
   "outputs": [
    {
     "name": "stdout",
     "output_type": "stream",
     "text": [
      "roll_err=45.07\"  pitch_err=0.00\"  yaw_err=50.72\"\n"
     ]
    }
   ],
   "source": [
    "# 180 degree pure pitch maneuver\n",
    "get_att_err(att_init=(0, -90, 0), att_final=(0, 90, 0), bias_err=(100, 0, 0));"
   ]
  },
  {
   "cell_type": "code",
   "execution_count": 6,
   "metadata": {
    "collapsed": false
   },
   "outputs": [
    {
     "name": "stdout",
     "output_type": "stream",
     "text": [
      "roll_err=45.07\"  pitch_err=50.72\"  yaw_err=-0.00\"\n",
      "roll_err=52.64\"  pitch_err=50.49\"  yaw_err=-0.00\"\n",
      "roll_err=60.54\"  pitch_err=48.97\"  yaw_err=0.00\"\n",
      "roll_err=68.47\"  pitch_err=46.09\"  yaw_err=0.00\"\n",
      "roll_err=76.14\"  pitch_err=41.81\"  yaw_err=0.00\"\n",
      "roll_err=83.23\"  pitch_err=36.22\"  yaw_err=0.00\"\n",
      "roll_err=89.44\"  pitch_err=29.44\"  yaw_err=0.00\"\n",
      "roll_err=94.46\"  pitch_err=21.75\"  yaw_err=0.00\"\n",
      "roll_err=97.99\"  pitch_err=13.29\"  yaw_err=0.00\"\n",
      "roll_err=99.78\"  pitch_err=4.31\"  yaw_err=0.00\"\n",
      "roll_err=99.78\"  pitch_err=-4.31\"  yaw_err=-0.00\"\n",
      "roll_err=97.99\"  pitch_err=-13.29\"  yaw_err=-0.00\"\n",
      "roll_err=94.46\"  pitch_err=-21.75\"  yaw_err=-0.00\"\n",
      "roll_err=89.44\"  pitch_err=-29.44\"  yaw_err=-0.00\"\n",
      "roll_err=83.23\"  pitch_err=-36.22\"  yaw_err=-0.00\"\n",
      "roll_err=76.14\"  pitch_err=-41.81\"  yaw_err=-0.00\"\n",
      "roll_err=68.47\"  pitch_err=-46.09\"  yaw_err=-0.00\"\n",
      "roll_err=60.54\"  pitch_err=-48.97\"  yaw_err=-0.00\"\n",
      "roll_err=52.64\"  pitch_err=-50.49\"  yaw_err=0.00\"\n",
      "roll_err=45.07\"  pitch_err=-50.72\"  yaw_err=0.00\"\n"
     ]
    },
    {
     "data": {
      "image/png": "[encoded data removed]",
      "text/plain": [
       "<matplotlib.figure.Figure at 0x7ffbaf494350>"
      ]
     },
     "metadata": {},
     "output_type": "display_data"
    }
   ],
   "source": [
    "ras = np.linspace(-180, 180, 20)\n",
    "errs = [get_att_err(att_final=(ra, 0, 0), bias_err=(100, 0, 0), step=30)[1]\n",
    "       for ra in ras]\n",
    "plt.plot(ras, errs)\n",
    "plt.grid();"
   ]
  },
  {
   "cell_type": "markdown",
   "metadata": {},
   "source": [
    "## Day 2016:324 NSM\n",
    "```\n",
    "ObsID Target              Start     Time   SI   Grat    RA       Dec    Roll   Pitch   Slew\n",
    "-------------------------------------------------------------------------------------------\n",
    "19846 HZ43   2016:324:11:48:20.079   2.0  HRC-I LETG 199.0834  29.0806  39.79  59.77 115.31\n",
    "19942 Ae Aur 2016:324:12:58:16.839  29.0 ACIS-I NONE  79.1156  34.2873 121.98 154.15  95.01\n",
    "```"
   ]
  },
  {
   "cell_type": "code",
   "execution_count": 7,
   "metadata": {
    "collapsed": true
   },
   "outputs": [],
   "source": [
    "att_init = 199.0834, 29.0806, 39.79\n",
    "att_final = 79.1156, 34.2873, 121.98"
   ]
  },
  {
   "cell_type": "code",
   "execution_count": 8,
   "metadata": {
    "collapsed": true
   },
   "outputs": [],
   "source": [
    "dq_arcsec = (-50.081543712826715, -127.38228683796987, 113.8941879330622)  # roll, pitch, yaw"
   ]
  },
  {
   "cell_type": "code",
   "execution_count": 9,
   "metadata": {
    "collapsed": false,
    "scrolled": true
   },
   "outputs": [
    {
     "name": "stdout",
     "output_type": "stream",
     "text": [
      "[-0.11937123  0.12767532  0.09445898]\n",
      "roll_err=-50.52\"  pitch_err=-127.15\"  yaw_err=113.41\"\n"
     ]
    }
   ],
   "source": [
    "get_att_err(att_init, att_final, bias_err=(-115, 123, 91), verbose=True);"
   ]
  }
 ],
 "metadata": {
  "kernelspec": {
   "display_name": "Python 2",
   "language": "python",
   "name": "python2"
  },
  "language_info": {
   "codemirror_mode": {
    "name": "ipython",
    "version": 2
   },
   "file_extension": ".py",
   "mimetype": "text/x-python",
   "name": "python",
   "nbconvert_exporter": "python",
   "pygments_lexer": "ipython2",
   "version": "2.7.9"
  }
 },
 "nbformat": 4,
 "nbformat_minor": 0
}

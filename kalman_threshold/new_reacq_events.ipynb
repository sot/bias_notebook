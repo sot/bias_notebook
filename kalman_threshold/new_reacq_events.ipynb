{
 "cells": [
  {
   "cell_type": "markdown",
   "metadata": {},
   "source": [
    "## Check for \"new\" reaquisition events\n",
    "\n",
    "Use the derived residuals to check for any new intervals that would have caused new reacquisition events with a lower (5 arcsec) limit on residuals instead of 20 arcsecs.  To do that, I've gathered lists of dwells using:\n",
    "\n",
    " - Observations with AOKALSTR already low\n",
    " - Observations with onboard residuals between 5 and 20 arcsecs and low Kalman stars\n",
    " - Observations with derived residuals between 5 and 20 arcsecs and low Kalman stars\n"
   ]
  },
  {
   "cell_type": "code",
   "execution_count": 107,
   "metadata": {
    "collapsed": false
   },
   "outputs": [],
   "source": [
    "import numpy as np\n",
    "from astropy.table import Table\n",
    "import mica.quaternion\n",
    "from Ska.quatutil import radec2eci\n",
    "import agasc\n",
    "from kadi import events\n",
    "from Ska.engarchive import fetch\n",
    "from Ska.Matplotlib import plot_cxctime, cxctime2plotdate\n",
    "from mica.starcheck import get_starcheck_catalog\n",
    "from Chandra.Time import DateTime\n",
    "import resids_and_kalstr"
   ]
  },
  {
   "cell_type": "code",
   "execution_count": 2,
   "metadata": {
    "collapsed": false
   },
   "outputs": [
    {
     "name": "stdout",
     "output_type": "stream",
     "text": [
      "Populating the interactive namespace from numpy and matplotlib\n"
     ]
    }
   ],
   "source": [
    "%pylab inline"
   ]
  },
  {
   "cell_type": "markdown",
   "metadata": {},
   "source": [
    "Observations/dwells with AOKALSTR below 2 for more than 60 seconds."
   ]
  },
  {
   "cell_type": "code",
   "execution_count": 3,
   "metadata": {
    "collapsed": true
   },
   "outputs": [],
   "source": [
    "# get_low_kalstr.py\n",
    "#kalstr_obsids = []\n",
    "#for year in range(2008, 2017):\n",
    "#    dat = fetch.Msid('AOKALSTR', '{}:001'.format(year), '{}:001'.format(year+1))\n",
    "#    lowkals = dat.logical_intervals('<=', '2 ')\n",
    "#    lowkals = lowkals[lowkals['duration'] < 120]  # too-long intervals are spurious\n",
    "#    bad = lowkals['duration'] > 60\n",
    "#    lowkals = lowkals[bad]\n",
    "#    for interval in lowkals:\n",
    "#        ds = events.dwells.filter(start=interval['tstart'], stop=interval['tstop'])\n",
    "#        kalstr_obsids.extend([d.get_obsid() for d in ds])\n",
    "#\n",
    "#kalstr_obsids = np.unique(kalstr_obsids)\n",
    "#kalstr_obsids = kalstr_obsids[kalstr_obsids != 0]\n",
    "#array([10345, 11804, 12317, 12332, 12357, 13295, 13483, 13651, 13788,\n",
    "#       13822, 13927, 14219, 14279, 14333, 14399, 14457, 14507, 14524,\n",
    "#       14557, 14603, 14902, 14961, 15129, 15149, 15175, 15177, 15180,\n",
    "#       15215, 15217, 15228, 15272, 15292, 15304, 15349, 15487, 15616,\n",
    "#       15642, 15658, 16311, 16314, 16350, 16368, 16369, 16630, 16632,\n",
    "#       17026, 17321, 17707, 18113, 18231, 18719, 51717, 54181])"
   ]
  },
  {
   "cell_type": "markdown",
   "metadata": {},
   "source": [
    "Observations (from onboard measurement residuals) which have stars with residuals between 5 and 20 arcsecs and and 8 consecutive samples (these have 4.1s sampling) where those stars could have brought the number of Kalman stars below 3. "
   ]
  },
  {
   "cell_type": "code",
   "execution_count": 4,
   "metadata": {
    "collapsed": true
   },
   "outputs": [],
   "source": [
    "# from_res.py and times_to_dwells.py\n",
    "#    yres_ok =  np.column_stack([np.abs(np.degrees(telem['AORESY{}'.format(slot)].vals)) * 3600 < 20\n",
    "#                                for slot in range(0, 8)])\n",
    "#    zres_ok =  np.column_stack([np.abs(np.degrees(telem['AORESY{}'.format(slot)].vals)) * 3600 < 20\n",
    "#                             for slot in range(0, 8)])\n",
    "#    yres_great =  np.column_stack([np.abs(np.degrees(telem['AORESY{}'.format(slot)].vals)) * 3600 < 5\n",
    "#                             for slot in range(0, 8)])\n",
    "#    zres_great =  np.column_stack([np.abs(np.degrees(telem['AORESY{}'.format(slot)].vals)) * 3600 < 5\n",
    "#                                   for slot in range(0, 8)])\n",
    "#\n",
    "#    kalstr = telem['AOKALSTR'].vals.astype(int)\n",
    "#    diff = np.sum((yres_ok != yres_great) | (zres_ok != zres_great), axis=1)\n",
    "#    # find the intervals (with good onboard residual data) where the nonzero\n",
    "#    # diff and low kalstr could have caused a problem.\n",
    "#    for e in consecutive(np.flatnonzero(((kalstr - diff) < 3) & (diff != 0))):\n",
    "#        if len(e) > 8:\n",
    "#            low_t.append(DateTime(telem['AORESY0'].times[e[0]]).date)\n",
    "#array([ 9836,  9931,  9943, 10008, 10289, 10822, 12315, 12952, 14333,\n",
    "#       14530, 15003, 15129, 15149, 15292, 15308, 15670, 15724, 15804,\n",
    "#       16177, 16190, 16311, 16314, 16350, 16452, 16501, 16629, 16734,\n",
    "#       17026, 17208, 17321, 17494, 17596, 17706, 17707, 17765, 17881,\n",
    "#       17896, 18241, 18353, 18446, 18619, 18629, 18781, 19505, 56341, 65535])"
   ]
  },
  {
   "cell_type": "markdown",
   "metadata": {},
   "source": [
    "Get an independent list of observations based on their derived (AOCYAN/AOCZAN/AOATTQT) residuals"
   ]
  },
  {
   "cell_type": "code",
   "execution_count": 5,
   "metadata": {
    "collapsed": true
   },
   "outputs": [],
   "source": [
    "# from_derived.py\n",
    "#        yag_offs[:, idx] = yag - pcad_data['AOACYAN{}'.format(entry['slot'])].vals\n",
    "#        zag_offs[:, idx] = zag - pcad_data['AOACZAN{}'.format(entry['slot'])].vals\n",
    "#    diff = np.sum(((np.abs(yag_offs) > 5) & (np.abs(yag_offs) < 20))\n",
    "#                  | ((np.abs(zag_offs) > 5) & (np.abs(zag_offs) < 20)), axis=1)\n",
    "#    kalstr = pcad_data['AOKALSTR'].vals.astype(int)\n",
    "#    for e in consecutive(np.flatnonzero(((kalstr - diff) < 3) & (diff != 0))):\n",
    "#        if len(e) > 8:\n",
    "#            low_obsids.append(obsid)\n",
    "#array([10008, 10289, 12135, 12315, 13111, 13391, 13822, 13846, 14048,\n",
    "#       14461, 14465, 14926, 14993, 15003, 15129, 15151, 15192, 15216,\n",
    "#       15804, 16065, 16177, 16311, 16314, 16345, 16473, 16630, 16662,\n",
    "#       16734, 17208, 17321, 17556, 17706, 17707, 18227, 18353, 18446,\n",
    "#       18619, 19386, 19942, 53365, 54323])\n"
   ]
  },
  {
   "cell_type": "markdown",
   "metadata": {},
   "source": [
    "Dwell COBSRQID obsids don't always line up with starcheck catalog obsids, so a refined list is required to get more\n",
    "accurate catalogs to use AOCYAN/AOCZAN/AOATTQT residuals."
   ]
  },
  {
   "cell_type": "code",
   "execution_count": 6,
   "metadata": {
    "collapsed": false
   },
   "outputs": [],
   "source": [
    "dwells_to_check = Table.read(\"\"\"cobsrqid, tstart, sc_obsid, mp_dir\n",
    "9836, 322083894.208, 9836, /2008/MAR1008/oflsa/\n",
    "9931, 350546588.916, 9931, /2009/FEB0909/oflsb/\n",
    "9943, 362467466.609, 9943, /2009/JUN2209/oflsb/\n",
    "10008, 350432063.61, 10008, /2009/FEB0209/oflsa/\n",
    "10289, 360399418.306, 10289, /2009/JUN0109/oflsa/\n",
    "10345, 364107983.291, 10345, /2009/JUL1009/oflsb/\n",
    "10822, 361747514.773, 10822, /2009/JUN1509/oflsb/\n",
    "11804, 370734202.723, 11804, /2009/SEP2809/oflsb/\n",
    "12135, 386934513.042, 12135, /2010/APR0510/oflsa/\n",
    "12315, 433980621.099, 12315, /2011/OCT0311/oflsa/\n",
    "12317, 420529599.069, 12317, /2011/APR2911/oflsb/\n",
    "12332, 423924481.245, 12332, /2011/JUN0811/oflsb/\n",
    "12357, 420284542.056, 12357, /2011/APR2511/oflsa/\n",
    "12952, 418365528.756, 12952, /2011/APR0311/oflsb/\n",
    "13111, 416252507.547, 13111, /2011/MAR0611/oflsb/\n",
    "13295, 470339544.79, 13295, /2012/NOV2312/oflsb/\n",
    "13295, 470343566.89, 13295, /2012/NOV2312/oflsb/\n",
    "13391, 429863519.783, 13391, /2011/AUG1511/oflsa/\n",
    "13483, 474931200.637, 13483, /2013/JAN1413/oflsb/\n",
    "13651, 445552297.496, 13651, /2012/FEB1312/oflsb/\n",
    "13788, 477085189.053, 13788, /2013/FEB1113/oflsb/\n",
    "13822, 443523219.689, 13822, /2012/JAN1612/oflsb/\n",
    "13846, 453551274.92, 13846, /2012/MAY1412/oflsa/\n",
    "13846, 453608679.023, 13846, /2012/MAY1412/oflsa/\n",
    "13927, 473343573.951, 13927, /2012/DEC2412/oflsb/\n",
    "14048, 462414469.864, 14048, /2012/AUG2012/oflsc/\n",
    "14219, 490516166.581, 14219, /2013/JUL1513/oflsb/\n",
    "14279, 464871284.296, 14279, /2012/SEP2212/oflsb/\n",
    "14333, 431156946.851, 14333, /2011/AUG2711/oflsa/\n",
    "14399, 490856966.8, 14399, /2013/JUL1813/oflsa/\n",
    "14457, 490143628.261, 14457, /2013/JUL0813/oflsa/\n",
    "14457, 490232540.866, 14457, /2013/JUL0813/oflsa/\n",
    "14457, 490236972.966, 14457, /2013/JUL0813/oflsa/\n",
    "14461, 458459248.853, 14461, /2012/JUL0712/oflsa/\n",
    "14465, 459040173.784, 14465, /2012/JUL1612/oflsc/\n",
    "14465, 459112538.788, 13728, /2012/JUL1612/oflsc/\n",
    "14507, 469660642.153, 14507, /2012/NOV1912/oflsc/\n",
    "14524, 495593098.458, 14524, /2013/SEP0913/oflsa/\n",
    "14530, 483496379.9, 14530, /2013/APR2513/oflsb/\n",
    "14557, 497797430.779, 14557, /2013/OCT0313/oflsa/\n",
    "14557, 497798574.679, 14557, /2013/OCT0313/oflsa/\n",
    "14557, 497800284.379, 14557, /2013/OCT0313/oflsa/\n",
    "14557, 497800739.479, 14557, /2013/OCT0313/oflsa/\n",
    "14603, 496535315.41, 14603, /2013/SEP2313/oflsa/\n",
    "14902, 476684159.832, 14902, /2013/FEB0413/oflsa/\n",
    "14926, 475945417.692, 14926, /2013/JAN2813/oflsa/\n",
    "14961, 476489085.921, 14961, /2013/FEB0413/oflsa/\n",
    "14993, 485812039.526, 14993, /2013/MAY2413/oflsa/\n",
    "15003, 497566075.966, 15003, /2013/OCT0313/oflsa/\n",
    "15129, 492754602.703, 15129, /2013/AUG1213/oflsa/\n",
    "15129, 492765135.604, 15129, /2013/AUG1213/oflsa/\n",
    "15129, 492770006.404, 15129, /2013/AUG1213/oflsa/\n",
    "15149, 491028318.109, 15149, /2013/JUL1813/oflsa/\n",
    "15149, 491079510.712, 15149, /2013/JUL1813/oflsa/\n",
    "15151, 490255148.267, 15151, /2013/JUL1513/oflsb/\n",
    "15175, 481887220.013, 15175, /2013/APR0813/oflsa/\n",
    "15175, 481939732.816, 15175, /2013/APR0813/oflsa/\n",
    "15177, 488225234.057, 15177, /2013/JUN1513/oflsa/\n",
    "15180, 491755949.249, 15180, /2013/JUL2913/oflsa/\n",
    "15192, 505422074.096, 15192, /2014/JAN0614/oflsb/\n",
    "15192, 505514947.302, 15192, /2014/JAN0614/oflsb/\n",
    "15215, 473985597.086, 15215, /2013/JAN0713/oflsa/\n",
    "15216, 474687144.024, 15216, /2013/JAN1413/oflsb/\n",
    "15217, 480431867.534, 15217, /2013/MAR1913/oflsa/\n",
    "15228, 483713708.612, 15228, /2013/APR2913/oflsd/\n",
    "15272, 477136500.556, 15272, /2013/FEB1113/oflsb/\n",
    "15292, 500269845.714, 15292, /2013/NOV0413/oflsa/\n",
    "15304, 482364312.439, 15304, /2013/APR0813/oflsa/\n",
    "15304, 482370171.339, 15304, /2013/APR0813/oflsa/\n",
    "15308, 494488664.998, 15308, /2013/AUG3113/oflsb/\n",
    "15349, 471100935.331, 15349, /2012/DEC0312/oflsa/\n",
    "15487, 486596484.368, 15487, /2013/MAY2513/oflsa/\n",
    "15616, 478135420.51, 15616, /2013/FEB2513/oflsb/\n",
    "15642, 519908772.995, 15642, /2014/JUN2314/oflsb/\n",
    "15658, 488360689.864, 15658, /2013/JUN1513/oflsa/\n",
    "15670, 514348127.188, 15670, /2014/APR1414/oflsb/\n",
    "15724, 518949594.342, 15724, /2014/JUN0914/oflsa/\n",
    "15804, 503949915.716, 15804, /2013/DEC1613/oflsb/\n",
    "16065, 526905226.583, 16065, /2014/SEP0614/oflsb/\n",
    "16065, 526918818.084, 16062, /2014/SEP0614/oflsb/\n",
    "16177, 529191567.11, 16177, /2014/OCT0614/oflsa/\n",
    "16190, 533073164.426, 16190, /2014/NOV1714/oflsc/\n",
    "16311, 521247804.369, 16311, /2014/JUL0714/oflsc/\n",
    "16314, 495189289.436, 16314, /2013/SEP0913/oflsa/\n",
    "16314, 495196542.336, 16314, /2013/SEP0913/oflsa/\n",
    "16314, 495198621.037, 16314, /2013/SEP0913/oflsa/\n",
    "16314, 495200892.437, 16314, /2013/SEP0913/oflsa/\n",
    "16314, 495205238.437, 16314, /2013/SEP0913/oflsa/\n",
    "16314, 495212860.337, 16314, /2013/SEP0913/oflsa/\n",
    "16314, 495218292.838, 16314, /2013/SEP0913/oflsa/\n",
    "16314, 495231343.138, 16314, /2013/SEP0913/oflsa/\n",
    "16314, 495232425.538, 16314, /2013/SEP0913/oflsa/\n",
    "16314, 495241125.739, 16314, /2013/SEP0913/oflsa/\n",
    "16314, 495263966.84, 16314, /2013/SEP0913/oflsa/\n",
    "16314, 495269370.64, 16314, /2013/SEP0913/oflsa/\n",
    "16314, 495277017.141, 16314, /2013/SEP0913/oflsa/\n",
    "16314, 495301002.142, 16314, /2013/SEP0913/oflsa/\n",
    "16345, 541885610.618, 16345, /2015/FEB2815/oflsa/\n",
    "16350, 501305542.671, 16350, /2013/NOV1813/oflsa/\n",
    "16368, 494506286.799, 16368, /2013/AUG3113/oflsb/\n",
    "16368, 494548693.101, 16368, /2013/AUG3113/oflsb/\n",
    "16369, 494381937.892, 16369, /2013/AUG3113/oflsb/\n",
    "16369, 494411556.294, 16369, /2013/AUG3113/oflsb/\n",
    "16452, 566345171.384, 16452, /2015/DEC1115/oflsb/\n",
    "16473, 510343296.167, 16473, /2014/MAR0314/oflsa/\n",
    "16501, 500298074.215, 16501, /2013/NOV0413/oflsa/\n",
    "16629, 520651725.836, 16629, /2014/JUN3014/oflsb/\n",
    "16630, 521037408.758, 16630, /2014/JUN3014/oflsb/\n",
    "16632, 521734199.696, 16632, /2014/JUL1414/oflsb/\n",
    "16662, 561552152.212, 16662, /2015/OCT1615/oflsa/\n",
    "16734, 555241201.467, 16734, /2015/JUL2415/oflsb/\n",
    "17026, 550520108.602, 17026, /2015/JUN1115/oflsa/\n",
    "17208, 555577979.586, 17208, /2015/AUG1015/oflsa/\n",
    "17321, 551670195.566, 17321, /2015/JUN2315/oflsa/\n",
    "17321, 551680453.767, 17321, /2015/JUN2315/oflsa/\n",
    "17321, 551685414.767, 17321, /2015/JUN2315/oflsa/\n",
    "17494, 556223336.022, 17494, /2015/AUG1015/oflsa/\n",
    "17556, 534557036.509, 17556, /2014/DEC0814/oflsd/\n",
    "17596, 539982009.211, 17596, /2015/FEB0915/oflsc/\n",
    "17706, 555397665.676, 17706, /2015/JUL2415/oflsb/\n",
    "17707, 555471666.58, 17707, /2015/JUL2415/oflsb/\n",
    "17765, 578833815.081, 17765, /2016/MAY0216/oflsb/\n",
    "17881, 572400031.228, 17881, /2016/FEB0816/oflsb/\n",
    "17896, 587127361.156, 17896, /2016/AUG0716/oflsb/\n",
    "18113, 571325839.367, 18113, /2016/FEB0816/oflsb/\n",
    "18227, 585199627.145, 18227, /2016/JUL1816/oflsa/\n",
    "18231, 570155195.0, 18231, /2016/JAN2516/oflsa/\n",
    "18241, 588872932.156, 18241, /2016/AUG2916/oflsa/\n",
    "18353, 555823926.3, 18353, /2015/AUG1015/oflsa/\n",
    "18446, 588141434.714, 18446, /2016/AUG1516/oflsa/\n",
    "18619, 574536551.535, 18619, /2016/MAR1116/oflsb/\n",
    "18629, 588434875.831, 18629, /2016/AUG2216/oflsb/\n",
    "18719, 566119261.371, 18719, /2015/DEC0315/oflsa/\n",
    "18781, 572696645.745, 18781, /2016/FEB2216/oflsb/\n",
    "19386, 598466038.909, 19386, /2016/DEC1216/oflsa/\n",
    "19505, 590472920.348, 19505, /2016/SEP1216/oflsa/\n",
    "51717, 554532754.227, 51717, /2015/JUL2415/oflsb/\n",
    "51717, 554538326.128, 51717, /2015/JUL2415/oflsb/\n",
    "53365, 496714177.919, 53365, /2013/SEP2313/oflsa/\n",
    "54181, 468616437.697, 54181, /2012/NOV0512/oflsa/\n",
    "54181, 468619340.497, 54181, /2012/NOV0512/oflsa/\n",
    "54323, 464250314.663, 54323, /2012/SEP1012/oflsa/\n",
    "56341, 387258445.859, 56341, /2010/APR0510/oflsa/\n",
    "65535, 447816088.016, 54793, /2012/MAR1012/oflsa/\n",
    "\"\"\", format='ascii')"
   ]
  },
  {
   "cell_type": "code",
   "execution_count": 7,
   "metadata": {
    "collapsed": true
   },
   "outputs": [],
   "source": [
    "def consecutive(data, stepsize=1):\n",
    "        return np.split(data, np.where(np.diff(data) != stepsize)[0] + 1)"
   ]
  },
  {
   "cell_type": "code",
   "execution_count": 55,
   "metadata": {
    "collapsed": false
   },
   "outputs": [],
   "source": [
    "def start_of_low_event(times, kaldata, sim_moving):\n",
    "    hit_time = 0\n",
    "    hit_cnt = 0\n",
    "    sim = False\n",
    "    for e in consecutive(np.flatnonzero(kaldata < 2)):\n",
    "        if (len(e) > 30 and sim_moving[e[0]] != 'T'):\n",
    "            hit_time = times[e[0]]\n",
    "            hit_cnt = len(e)\n",
    "            break\n",
    "        if (len(e) > 30 and sim_moving[e[0]] == 'T'):\n",
    "            sim = True\n",
    "    return hit_time, hit_cnt, sim"
   ]
  },
  {
   "cell_type": "code",
   "execution_count": 91,
   "metadata": {
    "collapsed": false
   },
   "outputs": [],
   "source": [
    "dwell_checks = []\n",
    "for obs in dwells_to_check:\n",
    "    check = {'tstart': obs['tstart'],\n",
    "              'sc_obsid': obs['sc_obsid']}\n",
    "    dwells = events.dwells.filter(start=obs['tstart'] - 5, stop=obs['tstart'] + 5)\n",
    "    dwell = dwells[0]\n",
    "    telem = resids_and_kalstr.get_telem(dwell)\n",
    "    kalstr = telem['AOKALSTR'].vals.astype(int)\n",
    "    in_kalm = telem['AOACASEQ'].vals == 'KALM'\n",
    "    # searchsort this onto the AOKALSTR grid\n",
    "    sim_moving = telem['3TSCMOVE'].vals[np.searchsorted(\n",
    "                telem['3TSCMOVE'].times[1:-1], telem['AOKALSTR'].times) - 1]\n",
    "    catalog = get_starcheck_catalog(obs['sc_obsid'], mp_dir=obs['mp_dir'])['cat']\n",
    "    orig_times, orig_kal = resids_and_kalstr.kal(dwell, telem, limit=20, catalog=catalog, nowflags=False)\n",
    "    # Check that my estimate is accurate\n",
    "    check['frac_mismatch'] = 1.0 * np.count_nonzero(kalstr[in_kalm] - np.sum(orig_kal, axis=1)[in_kalm]) / len(kalstr[in_kalm])\n",
    "    # Look for less-than-two-star intervals greater than 30 1.025 sec samples\n",
    "    low_limit_times, low_limit_kal = resids_and_kalstr.kal(dwell, telem, limit=5, catalog=catalog, nowflags=False)\n",
    "    # And do the same evaluation ignoring DP and MS even if the observation happened before those\n",
    "    # flags were ignored\n",
    "    new_limit_times, new_limit_kal = resids_and_kalstr.kal(dwell, telem, limit=5, catalog=catalog, nowflags=True)\n",
    "    kal_ests = {'times': orig_times,\n",
    "                'orig': np.sum(orig_kal, axis=1),\n",
    "                'low_limit': np.sum(low_limit_kal, axis=1),\n",
    "                'new_low_limit': np.sum(new_limit_kal, axis=1)}\n",
    "    for t in ['orig', 'low_limit', 'new_low_limit']:\n",
    "        hit_time, hit_cnt, sim = start_of_low_event(kal_ests['times'], kal_ests[t], sim_moving)\n",
    "        check['{}_hit_time'.format(t)] = hit_time\n",
    "        check['{}_hit_cnt'.format(t)] = hit_cnt\n",
    "        check['{}_sim'.format(t)] = sim\n",
    "    dwell_checks.append(check)"
   ]
  },
  {
   "cell_type": "code",
   "execution_count": 95,
   "metadata": {
    "collapsed": false
   },
   "outputs": [],
   "source": [
    "dwell_checks = Table(dwell_checks)"
   ]
  },
  {
   "cell_type": "code",
   "execution_count": 98,
   "metadata": {
    "collapsed": false
   },
   "outputs": [],
   "source": [
    "has_hit = dwell_checks['low_limit_hit_time'] != 0"
   ]
  },
  {
   "cell_type": "code",
   "execution_count": 103,
   "metadata": {
    "collapsed": false
   },
   "outputs": [
    {
     "data": {
      "text/html": [
       "&lt;Table masked=False length=22&gt;\n",
       "<table id=\"table139876532123792\">\n",
       "<thead><tr><th>sc_obsid</th><th>frac_mismatch</th><th>orig_hit_time</th><th>low_limit_hit_time</th><th>new_low_limit_hit_time</th><th>low_limit_sim</th></tr></thead>\n",
       "<thead><tr><th>int64</th><th>float64</th><th>float64</th><th>float64</th><th>int64</th><th>bool</th></tr></thead>\n",
       "<tr><td>13295</td><td>0.000517866390471</td><td>470343472.59</td><td>470343472.59</td><td>0</td><td>False</td></tr>\n",
       "<tr><td>13846</td><td>1.79221105077e-05</td><td>0.0</td><td>453608422.773</td><td>0</td><td>False</td></tr>\n",
       "<tr><td>14457</td><td>0.000115361543076</td><td>490232448.616</td><td>490232448.616</td><td>0</td><td>False</td></tr>\n",
       "<tr><td>14461</td><td>5.99460485563e-05</td><td>458510513.206</td><td>458510509.106</td><td>0</td><td>False</td></tr>\n",
       "<tr><td>14465</td><td>4.50572226728e-05</td><td>459085639.712</td><td>459085624.337</td><td>0</td><td>False</td></tr>\n",
       "<tr><td>14557</td><td>0.00189393939394</td><td>497798482.429</td><td>497798482.429</td><td>0</td><td>False</td></tr>\n",
       "<tr><td>14557</td><td>0.0</td><td>497800190.079</td><td>497800190.079</td><td>0</td><td>False</td></tr>\n",
       "<tr><td>14557</td><td>0.0</td><td>497800645.179</td><td>497800645.179</td><td>0</td><td>False</td></tr>\n",
       "<tr><td>14993</td><td>0.00094816687737</td><td>485815251.876</td><td>485815248.801</td><td>0</td><td>False</td></tr>\n",
       "<tr><td>15129</td><td>0.00176211453744</td><td>492765041.304</td><td>492765041.304</td><td>0</td><td>False</td></tr>\n",
       "<tr><td>15149</td><td>0.000962213090107</td><td>491079418.462</td><td>491079418.462</td><td>0</td><td>False</td></tr>\n",
       "<tr><td>15175</td><td>0.000136790885819</td><td>481939640.566</td><td>481939640.566</td><td>0</td><td>False</td></tr>\n",
       "<tr><td>16314</td><td>0.00961538461538</td><td>495198535.962</td><td>495198535.962</td><td>0</td><td>False</td></tr>\n",
       "<tr><td>16314</td><td>0.0138696255201</td><td>495200807.362</td><td>495200807.362</td><td>0</td><td>False</td></tr>\n",
       "<tr><td>16314</td><td>0.00931009787539</td><td>495205155.412</td><td>495205155.412</td><td>0</td><td>False</td></tr>\n",
       "<tr><td>16314</td><td>0.012380952381</td><td>495218209.813</td><td>495218209.813</td><td>0</td><td>False</td></tr>\n",
       "<tr><td>16314</td><td>0.0130362645177</td><td>495241042.714</td><td>495241042.714</td><td>0</td><td>False</td></tr>\n",
       "<tr><td>16314</td><td>0.0112010796221</td><td>495276934.116</td><td>495276934.116</td><td>0</td><td>False</td></tr>\n",
       "<tr><td>16369</td><td>0.000624176433872</td><td>494411466.094</td><td>494411466.094</td><td>0</td><td>False</td></tr>\n",
       "<tr><td>16630</td><td>0.0025378758748</td><td>0.0</td><td>521077120.335</td><td>0</td><td>False</td></tr>\n",
       "<tr><td>17321</td><td>0.00393303751513</td><td>551680327.692</td><td>551680327.692</td><td>0</td><td>False</td></tr>\n",
       "<tr><td>51717</td><td>0.000556999628667</td><td>554538243.103</td><td>554538243.103</td><td>0</td><td>False</td></tr>\n",
       "</table>"
      ],
      "text/plain": [
       "<Table masked=False length=22>\n",
       "sc_obsid   frac_mismatch   ... new_low_limit_hit_time low_limit_sim\n",
       " int64        float64      ...         int64               bool    \n",
       "-------- ----------------- ... ---------------------- -------------\n",
       "   13295 0.000517866390471 ...                      0         False\n",
       "   13846 1.79221105077e-05 ...                      0         False\n",
       "   14457 0.000115361543076 ...                      0         False\n",
       "   14461 5.99460485563e-05 ...                      0         False\n",
       "   14465 4.50572226728e-05 ...                      0         False\n",
       "   14557  0.00189393939394 ...                      0         False\n",
       "   14557               0.0 ...                      0         False\n",
       "   14557               0.0 ...                      0         False\n",
       "   14993  0.00094816687737 ...                      0         False\n",
       "   15129  0.00176211453744 ...                      0         False\n",
       "   15149 0.000962213090107 ...                      0         False\n",
       "   15175 0.000136790885819 ...                      0         False\n",
       "   16314  0.00961538461538 ...                      0         False\n",
       "   16314   0.0138696255201 ...                      0         False\n",
       "   16314  0.00931009787539 ...                      0         False\n",
       "   16314    0.012380952381 ...                      0         False\n",
       "   16314   0.0130362645177 ...                      0         False\n",
       "   16314   0.0112010796221 ...                      0         False\n",
       "   16369 0.000624176433872 ...                      0         False\n",
       "   16630   0.0025378758748 ...                      0         False\n",
       "   17321  0.00393303751513 ...                      0         False\n",
       "   51717 0.000556999628667 ...                      0         False"
      ]
     },
     "execution_count": 103,
     "metadata": {},
     "output_type": "execute_result"
    }
   ],
   "source": [
    "dwell_checks[has_hit][['sc_obsid', 'frac_mismatch', 'orig_hit_time', 'low_limit_hit_time', 'new_low_limit_hit_time', 'low_limit_sim']]"
   ]
  },
  {
   "cell_type": "code",
   "execution_count": 100,
   "metadata": {
    "collapsed": true
   },
   "outputs": [],
   "source": [
    "has_different_hit = ((dwell_checks['low_limit_hit_time'] != 0)\n",
    "                     & (dwell_checks['low_limit_hit_time'] != dwell_checks['orig_hit_time']))"
   ]
  },
  {
   "cell_type": "code",
   "execution_count": 102,
   "metadata": {
    "collapsed": false
   },
   "outputs": [
    {
     "data": {
      "text/html": [
       "&lt;Table masked=False length=5&gt;\n",
       "<table id=\"table139876534097488\">\n",
       "<thead><tr><th>sc_obsid</th><th>frac_mismatch</th><th>orig_hit_time</th><th>low_limit_hit_time</th><th>new_low_limit_hit_time</th><th>low_limit_sim</th></tr></thead>\n",
       "<thead><tr><th>int64</th><th>float64</th><th>float64</th><th>float64</th><th>int64</th><th>bool</th></tr></thead>\n",
       "<tr><td>13846</td><td>1.79221105077e-05</td><td>0.0</td><td>453608422.773</td><td>0</td><td>False</td></tr>\n",
       "<tr><td>14461</td><td>5.99460485563e-05</td><td>458510513.206</td><td>458510509.106</td><td>0</td><td>False</td></tr>\n",
       "<tr><td>14465</td><td>4.50572226728e-05</td><td>459085639.712</td><td>459085624.337</td><td>0</td><td>False</td></tr>\n",
       "<tr><td>14993</td><td>0.00094816687737</td><td>485815251.876</td><td>485815248.801</td><td>0</td><td>False</td></tr>\n",
       "<tr><td>16630</td><td>0.0025378758748</td><td>0.0</td><td>521077120.335</td><td>0</td><td>False</td></tr>\n",
       "</table>"
      ],
      "text/plain": [
       "<Table masked=False length=5>\n",
       "sc_obsid   frac_mismatch   ... new_low_limit_hit_time low_limit_sim\n",
       " int64        float64      ...         int64               bool    \n",
       "-------- ----------------- ... ---------------------- -------------\n",
       "   13846 1.79221105077e-05 ...                      0         False\n",
       "   14461 5.99460485563e-05 ...                      0         False\n",
       "   14465 4.50572226728e-05 ...                      0         False\n",
       "   14993  0.00094816687737 ...                      0         False\n",
       "   16630   0.0025378758748 ...                      0         False"
      ]
     },
     "execution_count": 102,
     "metadata": {},
     "output_type": "execute_result"
    }
   ],
   "source": [
    "dwell_checks[has_different_hit][['sc_obsid', 'frac_mismatch', 'orig_hit_time', 'low_limit_hit_time', 'new_low_limit_hit_time', 'low_limit_sim']]"
   ]
  },
  {
   "cell_type": "markdown",
   "metadata": {},
   "source": [
    "Two observations, 13846 and 16630, show evidence in this search that they would have had a \"new\" reacquisition event if the lower limit had been in use at the time of their observation.  More research shows that both of these events occur at the end of these observations and that obsid 16630 actually ended in a non-scs107 SIM transition caused by a commanding error and 13846 ended in SCS107.  In those cases, it just looks like the 3TSCPOS/3TSCMOVE value in telemetry was updated a little late to get caught by my sim_moving check.\n",
    "\n",
    "Observations 14461, 14465, and 14993 also ended in SCS107 not caught by my sim moving check.\n"
   ]
  },
  {
   "cell_type": "code",
   "execution_count": 130,
   "metadata": {
    "collapsed": false
   },
   "outputs": [
    {
     "data": {
      "text/plain": [
       "(734696.83352195483, 734696.83407953591)"
      ]
     },
     "execution_count": 130,
     "metadata": {},
     "output_type": "execute_result"
    },
    {
     "data": {
      "image/png": "[encoded data removed]",
      "text/plain": [
       "<matplotlib.figure.Figure at 0x7f3789ef79d0>"
      ]
     },
     "metadata": {},
     "output_type": "display_data"
    }
   ],
   "source": [
    "# but why don't I see a new_low_limit hit for these observations\n",
    "obsid = 14461\n",
    "obs = dwells_to_check[dwells_to_check['sc_obsid'] == obsid][0]\n",
    "dwells = events.dwells.filter(start=obs['tstart'] - 5, stop=obs['tstart'] + 5)\n",
    "dwell = dwells[0]\n",
    "telem = resids_and_kalstr.get_telem(dwell)\n",
    "kalstr = telem['AOKALSTR'].vals.astype(int)\n",
    "in_kalm = telem['AOACASEQ'].vals == 'KALM'\n",
    "# searchsort this onto the AOKALSTR grid\n",
    "sim_moving = telem['3TSCMOVE'].vals[np.searchsorted(\n",
    "            telem['3TSCMOVE'].times[1:-1], telem['AOKALSTR'].times) - 1]\n",
    "catalog = get_starcheck_catalog(obs['sc_obsid'], mp_dir=obs['mp_dir'])['cat']\n",
    "orig_times, orig_kal = resids_and_kalstr.kal(dwell, telem, limit=20, catalog=catalog, nowflags=False)\n",
    "# Check that my estimate is accurate\n",
    "# Look for less-than-two-star intervals greater than 30 1.025 sec samples\n",
    "low_limit_times, low_limit_kal = resids_and_kalstr.kal(dwell, telem, limit=5, catalog=catalog, nowflags=False)\n",
    "# And do the same evaluation ignoring DP and MS even if the observation happened before those\n",
    "# flags were ignored\n",
    "new_limit_times, new_limit_kal = resids_and_kalstr.kal(dwell, telem, limit=5, catalog=catalog, nowflags=True)\n",
    "fig, axes = plt.subplots(1, 2, figsize=(12, 4))\n",
    "plot_cxctime(telem['AOKALSTR'].times, kalstr, 'b', ax=axes[0])\n",
    "plot_cxctime(low_limit_times, np.sum(low_limit_kal, axis=1), 'r', ax=axes[0])\n",
    "plot_cxctime(new_limit_times, np.sum(new_limit_kal, axis=1), 'g', ax=axes[0])\n",
    "axes[0].set_xlim(xmin=cxctime2plotdate([new_limit_times[-60]])[0])\n",
    "axes[0].set_ylim(-1, 6)\n",
    "plot_cxctime(telem['3TSCPOS'].times, telem['3TSCPOS'].vals, 'r') # just connect the dots for this plot\n",
    "axes[1].set_xlim(xmin=cxctime2plotdate([new_limit_times[-60]])[0])\n"
   ]
  },
  {
   "cell_type": "markdown",
   "metadata": {},
   "source": [
    "It looks like this doesn't show up as exceeding 30 samples with less than 2 Kalman stars in the \"new_low_limit\" case because the estimate of the number of stars pops up again (green on plots) during the SCS107.  A closer look at DP and MS flag data for the observation shows that the DP and MS flags are both set during different periods of time on all stars during this phase of the end of the observation.\n",
    "\n",
    "I don't quite understand the ACA processing at this point anyway, so I think this is moot, but if we need to be worried about Kalman star disruption during SCS107 this could get some more attention."
   ]
  },
  {
   "cell_type": "code",
   "execution_count": null,
   "metadata": {
    "collapsed": true
   },
   "outputs": [],
   "source": []
  }
 ],
 "metadata": {
  "kernelspec": {
   "display_name": "Python 2",
   "language": "python",
   "name": "python2"
  },
  "language_info": {
   "codemirror_mode": {
    "name": "ipython",
    "version": 2
   },
   "file_extension": ".py",
   "mimetype": "text/x-python",
   "name": "python",
   "nbconvert_exporter": "python",
   "pygments_lexer": "ipython2",
   "version": "2.7.9"
  }
 },
 "nbformat": 4,
 "nbformat_minor": 0
}
